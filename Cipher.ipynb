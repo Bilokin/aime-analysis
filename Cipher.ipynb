{
 "cells": [
  {
   "cell_type": "code",
   "execution_count": 38,
   "id": "0893eaf1-b0ba-4877-aafc-548064cb3caf",
   "metadata": {},
   "outputs": [],
   "source": [
    "import numpy as np\n",
    "import matplotlib.pyplot as plt\n",
    "import pandas as pd"
   ]
  },
  {
   "cell_type": "code",
   "execution_count": 55,
   "id": "cd520b8c-3229-4455-bab4-a0b46c5e07f9",
   "metadata": {},
   "outputs": [],
   "source": [
    "text = \"\"\"Ntotoo Doiontotot, Doijto\n",
    "\n",
    "Xoi Doijtooi Tooijto-Ntoit-oo Toooj bot iott boi Giüobooj boi?Öotoiooboooi to Jobi 4014 toit 40.000 Nojoioojojoo oot bto Xäoboi noo Ditnottooboo to Xootiobjoob joiobioopt. Dti zoo Jobioioobo iojjoo oi ioob 100.000 Dojojoo ioto. 4044 taootoo ooob otoooj io ntojo Nojoibäoboi btozotooooo. Xoiüpoi btoooi bot Toooj poiotti Iooioobo Tooijtoiootoboi, Loboitottoooo tüi Tjottioootoi oob Uäioooooooo pot iotooo Kooboo toitojjtoit. Noboo to oäobitoo Jobi taooto oto Iotj btoioi Dojojoo oji otooi boi jiaßtoo ntitoojjoo Kiottnoito to Toiooo oo Tooijtoooitt oottiotoo.\n",
    "\n",
    "\"Uooo ooo Ttozojbooibojto jojoo bto Ntioooiotitoino oottotoit, tooo ooo jooz ntojo Xtojo joi otobt oooboo, notj boi Ntiooooitt otobt tüi iojobo Giaßoo joboobt tit\", iojt Doojooto Voijo, Lottoi boi Diobottootntotjooj pot Toooj, zo boo Djäooo tüi boi ntitoojjo Kiottnoit. \"Voo tooo otoo otozojoo Ktjonottitoobo otobt oo Tooijtoooitt boobojo\", iojt oi üpoi boizott ooob tobjoobo Uottotoioojioajjtobtottoo tüi bto Dojojoo boi Kooboo. Öo ott boo oot boo Nojoibäoboio oizoojtoo Ntioo zo boobojo oob ooob bto Nootoboi tüi bto Uottotoiooj oo Ntiooooitt zo ootzoo, oüiitoo bto Ttozojoojojoo zo otooi Ejotto zoiooooojoiobjoiioo noiboo, bto oo Tooijtoooitt nto oto Kiottnoit to Gtjonottooßitop oottittt. \"Xoi tit oi, noi nti ootoi otooo ntitoojjoo Kiottnoit 4.0 noiitoboo\", iojt Voijo. Öob joooo boi ntjj Toooj to otooo Jotot Uootoio ott boo Vüoobooi Tooijtoiottnoioootoioobooo Totitx ooob to btoioo Jobi oot boo Uoj pitojoo. Xotüi tonoittoit Toooj otooo znotitojjtjoo Vtjjtoooopotioj, ott boo itob bto Doijtooi bto Vobibott oo boo Goootoiobottiootoioobooo Ejoxo itoboio. Doiotti to noijoojoooo Jobi botto itob Toooj oo Totitx pototjtjt.\n",
    "\n",
    "Doob btoi tooot KI zoo Ttoiotz\n",
    "\n",
    "Ejoxo iojj ioboo to nootjoo Jobioo ott oobioioo Gtjonott toitojjtoitoi Lotitooj oo Tooijtoooitt oottiotoo oob boott otobt ooi Gojb tüi Toooj oob iotoo Kooboo noibtoooo, iooboio ooob ootzbtoojtobo Lotitoojoo nto Eioooooziojojooj, Noooooojibojtooj ionto Kooozttätiioioinoo tüi poiioio Notzitoptjttät oipitojoo. Uäbioob Toooj bto bozootiojoo Nojoioojojoo oob Nootoboi iotooi Kooboo, totjoitno otooi totojjtjootoo Tooijtooooojooootiyitooi, to boi Jotot Uootoio otopitojt, tooot noo boi 4041 jojiüoboto Totitx otoo oot Küoitjtoboi Iotojjtjooz poitoioobo Ntiooboobojiojotttoio, ott boi boi Öotoioobooo ptijooj noi ojjoo Gioßiootoboi tüi toitttottooojjo Ionoitoioo oottotoit.\n",
    "\n",
    "\"Uti poittzoo bto Dojojoo otobt, iooboio noiboo noo boo Doittzoio pooottiojt, ito to boo Voitt zo pitojoo oob oottooj zo ootzoo\", poiobiotpt Népoittoo Nobttoio, Tbtot Iooboojojy Utttooi noo Totitx, boi Goiobättioobojj. Xoi Uottotoioojioiopjoo tüi Gioßoojojoo iot oibopjtob ototooboi zo jaioo oji bto Dotjopo pot Ejoxo, iojt Nobttoio, boi ooob to boo Jotot Uootoio bto Rojjo oji Tbtot Iooboojojy Utttooi üpoiotoot. \"Uti oüiioo joboizott oto tjoioi Dtjb boi joiootoo Notznoiti bopoo\", iojt oi üpoi bto Aoiooitoiboiooj, Xotoo noo Zobotooiooboo Nojoibäoboio, Nootoboio, Loboitottoooo oob Uäioooooooo to Tobtzott zo ojjiojtoioo oob joitützt boioot Uoiboiiojoo tüi ojjo Koooooootoo boi ntitoojjoo Kiottnoiti zo tiottoo, boott boi Djjoittbooi noo Totitx Tbooooo oot boo Tooijtoooitt ootzoo tooo.\n",
    "\n",
    "Vtt boo Aoiooitoiboioojoo noitotjtoi Tooijtoiyitooo tooot itob Nobttoio ooi. Uoi iotooi Rüottobi ooob Xootiobjoob noi oi tüi bto btjttojo Diobottootntotjooj ojjoi itottooäioo Dottoitoo to ntitoojjoo Kiottnoit noo Ioijo noiootnoitjtob.\n",
    "\n",
    "\"Lanoooototj\" iojj oo bto Kooboo joboo\n",
    "\n",
    "Xoob noi ooiitoit, nooo bto Küoitjtobo Iotojjtjooz ott tbioo Uoiboiiojoo tüi boi ntitoojjo Kiottnoit boob otoooj booopoojtojt oob boi Djjoittbooi oot boo Tooijtoooitt Ntioo noitoott, boo boi Koobo noo Toooj otjootjtob tüi bto Uoiobooiobtoo pooattjt? \"Ti tit ooijoiobjoiioo, boii bto Ntioonoiioijooj tüi boo Ditnotbooibojt ootoipiooboo ntib, oob nti itojjoo itoboi, boii toto Noboboo oo otooo Aooibojtijoiät ootitoboo tooo\", iojt Ujotoijon Nojooto, boi bto Diobottootntotjooj pot Ejoxo noiootnoitot. Ntottboiioo iojj boi Tobnoipioooboi tiätttj noo boo Uottotoioojioajjtobtottoo boi ntitoojjoo Kiottnoiti to Tooijtoooitt oiottttoioo.\n",
    "\n",
    "\"Xto Iboo tit, boo Lanoooototj oo boo Kooboo nottoizojopoo\", iojt Doojooto Voijo, Lottoi boi Diobottootntotjooj noo Toooj. Eüi boiobiobotttjtobo Kooboo toooo ooo to oiitoo Ntoojottoooo oot Zoiotzoijaio to boi Giaßoooiboooj noo 400 pti 600 Toio to Jobi. Uoi oopoo otooi Nojoioojojo oob otooo Nootoboi ooob üpoi otoo Loboitottoo tüi oto Tjottioooto oob otoo Uäiooooooo noitüjo, toooo nojoo boi zoiätzjtoboo Uottotoioojioajjtobtottoo ioboojj oot 1000 Toio oob oobi.\n",
    "\n",
    "Nobnäiooo noo ntitoojjoo Kiottnoit\n",
    "\n",
    "\"Utojo Kooboo noiboo oobi Gojb potooooo, oji tbio Roititiooiooboooj ooiooobt\", iojt Voijo. Uoiäoboioojoo to iojojotoitioboo Öotojb nüiboo ioboo pojb zoiätzjtobo Tbooooo oiattooo. \"Ti ntib to Zotoott otobt ooi oo bto Ntojtoiooj boi ntitoojjoo Kiottnoiti joboo, iooboio ooob oo bto Doooiiooj oo oooo Rojojtoiooj oob boi Doiiobaotoo noo ooooo Tijaiooojjoo tüi ooioio Kooboo\", iojt Nojooto, boi noi boi Giüobooj noo Ejoxo bto Totntotjooj noo ntitoojjoo Kiottnoitoo pot boi Too-Ioobtoi GitbX noioopioobto. \"Vtt Ejoxo, Toooj oob Totitx bopoo nti bto Vajjtobtott, oto noitttoj nojj totojitoitoi Nyitoo zo poooo, boi bto joiooto Uoitiobaotoojitotto otooi ntitoojjoo Kiottnoiti opptjbot.\"\n",
    "\n",
    "Vtt boo oiitoo Kooboo itoojtoioo Toooj oob Totitx ioboo booto bto Eootttooinotio boi joojootoo ntitoojjoo Kiottnoiti. \"Ti jobt boioo, zo joiooo, nto boi Nyitoo ioojtoit\", iojt Toooj-Vooojoi Voijo. Loiooo iojj noi ojjoo bto Küoitjtobo Iotojjtjooz, ott boi Ejoxo bto Ntjoojo joooitoioo ntjj, bto boo ntitoojjoo Kiottnoit bto Iotjooboo oo Tooijtoooitt oioajjtoboo. Io Aoipit iojj boi Jotot Uootoio poiotti ott oobioioo Aooboit Dojojoo ooi boo Toooj-Doittojto toitoo. \"Ttoo Giaßo, ott boi ooo ooob ioboo itoonojj to Iotioboy-Voitt boobojo tooo\", iojt Voijo. Noob to btoioo Jobi iojj booo boi Rojj-oot oot bto joozo Ejotto itoitoo. Noboo to oäobitoo Jobi taootoo bto Doijtooi ott otooo ntitoojjoo Kiottnoit ooi Nojoibäoboio oob Nootoboitotioitiottoi ott boi toitojjtoitoo Lotitooj otooi Dtootiottnoiti oo Voitt totjoobooo.\n",
    "\"\"\""
   ]
  },
  {
   "cell_type": "code",
   "execution_count": 56,
   "id": "3bae062a-a951-4882-a6d9-14f370312b39",
   "metadata": {},
   "outputs": [
    {
     "data": {
      "text/plain": [
       "(array([1.540e+02, 9.230e+02, 2.258e+03, 3.200e+01, 6.460e+02, 3.900e+02,\n",
       "        2.500e+01, 2.700e+01, 7.000e+00, 3.520e+02, 1.400e+01, 3.600e+01,\n",
       "        5.000e+00, 1.000e+01, 2.000e+01, 4.000e+00, 2.200e+01, 4.800e+01,\n",
       "        5.000e+01, 2.600e+01, 1.100e+01, 2.800e+01, 3.300e+01, 7.000e+00,\n",
       "        1.800e+01, 1.200e+01, 7.000e+00, 1.000e+00, 5.000e+00, 1.000e+00]),\n",
       " array([ 0.        ,  0.96666667,  1.93333333,  2.9       ,  3.86666667,\n",
       "         4.83333333,  5.8       ,  6.76666667,  7.73333333,  8.7       ,\n",
       "         9.66666667, 10.63333333, 11.6       , 12.56666667, 13.53333333,\n",
       "        14.5       , 15.46666667, 16.43333333, 17.4       , 18.36666667,\n",
       "        19.33333333, 20.3       , 21.26666667, 22.23333333, 23.2       ,\n",
       "        24.16666667, 25.13333333, 26.1       , 27.06666667, 28.03333333,\n",
       "        29.        ]),\n",
       " <BarContainer object of 30 artists>)"
      ]
     },
     "execution_count": 56,
     "metadata": {},
     "output_type": "execute_result"
    },
    {
     "data": {
      "image/png": "[encoded data removed]",
      "text/plain": [
       "<Figure size 640x480 with 1 Axes>"
      ]
     },
     "metadata": {},
     "output_type": "display_data"
    }
   ],
   "source": [
    "def remove_punct(text):\n",
    "    return text.lower().replace(' ', '').replace('\"', '').replace(',', '').replace('.', '').replace('(', '').replace(')', '').replace('?', '').replace('?', '').replace(':', '')\n",
    "\n",
    "arr = [ord(t) for t in text]\n",
    "plt.hist(list(remove_punct(text)), bins=len(set(remove_punct(text))))"
   ]
  },
  {
   "cell_type": "code",
   "execution_count": null,
   "id": "f690655d-6e55-4720-af7b-482629198b95",
   "metadata": {},
   "outputs": [],
   "source": []
  },
  {
   "cell_type": "code",
   "execution_count": 57,
   "id": "29f842a8-2118-4602-81e1-6d3abff12c7a",
   "metadata": {},
   "outputs": [],
   "source": [
    "known_text = \"\"\"Noch haben Bundestag und Bundesrat nicht zugestimmt, aber zumindest die Partei- und Fraktionsspitzen von Union, SPD und Grünen sind sich einig: 100 Milliarden Euro aus dem geplanten neuen Schuldentopf für die Infrastruktur und den Klimaschutz sollen in den Klima- und Transformationsfonds (KTF) fließen. Denkbar wäre, dass die nächste Regierung mit dieser Finanzspritze das so genannte Klimageld finanziert, eine pauschale Rückzahlung der Einnahmen aus der CO2-Bepreisung, aus der sich der KTF vorwiegend speist, an jeden einzelnen Bürger. Sie ist als Kompensation für steigende Benzin-, Gas- oder Ölpreise gedacht und als Anreiz, auf fossile Energieträger zu verzichten.\n",
    "\n",
    "Doch die Hoffnungen auf das Klimageld dürften sich wieder nicht erfüllen: Geplant hatte den finanziellen Ausgleich schon die Ampelkoalition, daraus geworden ist dann aber nichts. Jetzt hat auch der Chefverhandler der Union für den Klimaschutz dem Vorhaben faktisch eine Absage erteilt. „Unser Klimageld ist der Klimabonus: Die absehbar 15 Milliarden Euro CO2-Einnahmen aus Wärme und Verkehr in diesem Jahr fließen über die Senkung der Strompreise und der Netzentgelte an Bürger und Betriebe zurück“, sagte der stellvertretende Bundesvorsitzende der CDU, Andreas Jung, gegenüber der F.A.Z.\n",
    "\n",
    "Er leitet für die Union die Arbeitsgruppe „Klima und Energie“ in den Koalitions-Sondierungen mit den Sozialdemokraten. Wie zu hören ist, hat auch die SPD das Klimageld nicht in die Verhandlungen eingebracht. Auf die Frage, ob die ursprüngliche Idee einer Pro-Kopf-Zahlung damit Makulatur sei, antwortete Jung: „Falls die CO2-Preise weiter steigen, denken wir auch über andere Instrumente nach, aber das steht derzeit nicht auf der Tagesordnung.“\n",
    "\n",
    "„Das Klimageld ist aus ökonomischer Sicht kein sinnvolles Instrument“\n",
    "Nach dem Willen der Sondierer soll der Strompreis um fünf Cent je Kilowattstunde sinken. Jung, der klima- und energiepolitischer Sprecher der Unions-Fraktion ist, knüpft mit seiner Argumentation an den scheidenden Wirtschafts- und Klimaschutzministers Robert Habeck (Grüne) an. Dieser hatte die Forderungen nach einem Klimageld 2023 mit der Begründung zurückgewiesen, dass der Staat die Stromkunden schon von der EEG-Umlage auf dem Strompreis entlastet habe. Der Sachverständigenrat zur Begutachtung der gesamtwirtschaftlichen Entwicklung hat sich in seinem jüngstem Jahresgutachten noch für das Klimageld ausgesprochen. Die Rückverteilung der CO2-Bepreisung erhöhe „signifikant die Akzeptanz“, hieß es.\n",
    "\n",
    "So sieht es auch Claudia Kemfert vom Deutschen Institut für Wirtschaftsforschung DIW in Berlin. „Die Auszahlung eines Klimagelds schafft soziale Gerechtigkeit und erhöht die Akzeptanz und sollte unbedingt umgesetzt werden“, sagte sie der F.A.Z. Hingegen wäre die von Jung vorgeschlagene Senkung der Stromsteuer und der Netzentgelte mit zehn Milliarden Euro im Jahr „enorm teuer und ineffizient“. Zudem konterkariere der Plan zum Bau neuer Gaskraftwerke die Kostendämpfung, denn die neuen Projekte erhöhten die Strompreise. „Eine Strompreissenkung per Gießkanne schafft Fehlanreize, besser wären zielgerichtete Tarife für Wärmepumpen oder Elektromobilität“, so die Wirtschaftsprofessorin.\n",
    "\n",
    "Doch ist die Zunft der Ökonomen in dieser Frage gespalten. „Meines Erachtens ist es insgesamt zu begrüßen, dass das Klimageld nicht kommt“, sagte der Präsident des Münchner Ifo-Instituts, Clemens Fuest, dieser Zeitung mit Bezug auf Jungs Vorstoß. „Das Klimageld ist aus ökonomischer Sicht kein sinnvolles Instrument zur Rückerstattung der Einnahmen aus dem CO2-Preis.“ Für den sozialen Ausgleich sei es zu ungenau, da jeder den gleichen Betrag erhalte. Demgegenüber sei die Belastung durch die CO2-Preise sehr unterschiedlich, etwa je nach Einkommen oder je nach Wohnort in der Stadt oder auf dem Land. „Verzerrende Steuern zu senken ist effizienter, als einen Pauschaltransfer an alle Bürger zu zahlen.“ Als neues Transferinstrument schaffe das Klimageld zusätzliche Bürokratie, urteilt Fuest.\n",
    "\"\"\".replace('„', '\"').replace('“', '\"')"
   ]
  },
  {
   "cell_type": "code",
   "execution_count": 58,
   "id": "9172edec-7532-49ef-9b72-bd631c379298",
   "metadata": {},
   "outputs": [
    {
     "data": {
      "text/plain": [
       "(array([311., 102.,  88., 111., 200.,  43., 502., 142., 186., 223., 212.,\n",
       "        109., 241., 255.,  56.,  89.,  44.,  18.,  73.,  69.,  19.,  32.,\n",
       "          2.,   3., 115.,   6.,  25.,  12.,   8.,  16.,   8.,  12.,   1.,\n",
       "          1.]),\n",
       " array([ 0.        ,  0.97058824,  1.94117647,  2.91176471,  3.88235294,\n",
       "         4.85294118,  5.82352941,  6.79411765,  7.76470588,  8.73529412,\n",
       "         9.70588235, 10.67647059, 11.64705882, 12.61764706, 13.58823529,\n",
       "        14.55882353, 15.52941176, 16.5       , 17.47058824, 18.44117647,\n",
       "        19.41176471, 20.38235294, 21.35294118, 22.32352941, 23.29411765,\n",
       "        24.26470588, 25.23529412, 26.20588235, 27.17647059, 28.14705882,\n",
       "        29.11764706, 30.08823529, 31.05882353, 32.02941176, 33.        ]),\n",
       " <BarContainer object of 34 artists>)"
      ]
     },
     "execution_count": 58,
     "metadata": {},
     "output_type": "execute_result"
    },
    {
     "data": {
      "image/png": "[encoded data removed]",
      "text/plain": [
       "<Figure size 640x480 with 1 Axes>"
      ]
     },
     "metadata": {},
     "output_type": "display_data"
    }
   ],
   "source": [
    "plt.hist(list(remove_punct(known_text)), bins=len(set(remove_punct(known_text))))"
   ]
  },
  {
   "cell_type": "code",
   "execution_count": 59,
   "id": "c855593c-d863-4d73-bdb5-fcaadb01f49c",
   "metadata": {},
   "outputs": [
    {
     "name": "stderr",
     "output_type": "stream",
     "text": [
      "/tmp/ipykernel_142466/367084925.py:1: FutureWarning: pandas.value_counts is deprecated and will be removed in a future version. Use pd.Series(obj).value_counts() instead.\n",
      "  pd.value_counts(list(remove_punct(known_text)))\n",
      "/tmp/ipykernel_142466/367084925.py:1: FutureWarning: value_counts with argument that is not not a Series, Index, ExtensionArray, or np.ndarray is deprecated and will raise in a future version.\n",
      "  pd.value_counts(list(remove_punct(known_text)))\n"
     ]
    },
    {
     "data": {
      "text/plain": [
       "e     502\n",
       "n     311\n",
       "i     255\n",
       "r     241\n",
       "s     223\n",
       "t     212\n",
       "a     200\n",
       "d     186\n",
       "u     142\n",
       "l     115\n",
       "h     111\n",
       "g     109\n",
       "o     102\n",
       "m      89\n",
       "c      88\n",
       "f      73\n",
       "k      69\n",
       "z      56\n",
       "p      44\n",
       "b      43\n",
       "ü      32\n",
       "w      25\n",
       "v      19\n",
       "-      18\n",
       "j      16\n",
       "ä      12\n",
       "\\n     12\n",
       "2       8\n",
       "ö       8\n",
       "ß       6\n",
       "0       3\n",
       "1       2\n",
       "5       1\n",
       "3       1\n",
       "Name: count, dtype: int64"
      ]
     },
     "execution_count": 59,
     "metadata": {},
     "output_type": "execute_result"
    }
   ],
   "source": [
    "pd.value_counts(list(remove_punct(known_text)))"
   ]
  },
  {
   "cell_type": "code",
   "execution_count": 60,
   "id": "4397011f-34c3-4309-aa8f-7f7e74f75f7f",
   "metadata": {},
   "outputs": [
    {
     "name": "stderr",
     "output_type": "stream",
     "text": [
      "/tmp/ipykernel_142466/4182002144.py:1: FutureWarning: pandas.value_counts is deprecated and will be removed in a future version. Use pd.Series(obj).value_counts() instead.\n",
      "  pd.value_counts(list(remove_punct(text)))\n",
      "/tmp/ipykernel_142466/4182002144.py:1: FutureWarning: value_counts with argument that is not not a Series, Index, ExtensionArray, or np.ndarray is deprecated and will raise in a future version.\n",
      "  pd.value_counts(list(remove_punct(text)))\n"
     ]
    },
    {
     "data": {
      "text/plain": [
       "o     2258\n",
       "t      923\n",
       "i      646\n",
       "j      390\n",
       "b      352\n",
       "n      154\n",
       "z       50\n",
       "p       48\n",
       "ü       36\n",
       "k       33\n",
       "d       32\n",
       "u       28\n",
       "x       27\n",
       "a       26\n",
       "\\n      25\n",
       "ä       22\n",
       "0       20\n",
       "v       18\n",
       "g       14\n",
       "e       12\n",
       "l       11\n",
       "4       10\n",
       "ß        7\n",
       "-        7\n",
       "y        7\n",
       "r        5\n",
       "ö        5\n",
       "1        4\n",
       "é        1\n",
       "6        1\n",
       "Name: count, dtype: int64"
      ]
     },
     "execution_count": 60,
     "metadata": {},
     "output_type": "execute_result"
    }
   ],
   "source": [
    "pd.value_counts(list(remove_punct(text)))"
   ]
  },
  {
   "cell_type": "code",
   "execution_count": 63,
   "id": "af1e7d41-2f2e-4ba9-a37f-8e8a204930be",
   "metadata": {},
   "outputs": [
    {
     "name": "stderr",
     "output_type": "stream",
     "text": [
      "/tmp/ipykernel_142466/926550133.py:1: FutureWarning: pandas.value_counts is deprecated and will be removed in a future version. Use pd.Series(obj).value_counts() instead.\n",
      "  pd.value_counts(known_text.split(' ')).head(20)\n",
      "/tmp/ipykernel_142466/926550133.py:1: FutureWarning: value_counts with argument that is not not a Series, Index, ExtensionArray, or np.ndarray is deprecated and will raise in a future version.\n",
      "  pd.value_counts(known_text.split(' ')).head(20)\n"
     ]
    },
    {
     "data": {
      "text/plain": [
       "der          30\n",
       "die          25\n",
       "und          16\n",
       "Klimageld    10\n",
       "den           9\n",
       "in            8\n",
       "ist           8\n",
       "aus           7\n",
       "für           7\n",
       "das           7\n",
       "mit           6\n",
       "zu            6\n",
       "dem           6\n",
       "auf           6\n",
       "nicht         5\n",
       "an            4\n",
       "sich          4\n",
       "oder          4\n",
       "auch          4\n",
       "es            3\n",
       "Name: count, dtype: int64"
      ]
     },
     "execution_count": 63,
     "metadata": {},
     "output_type": "execute_result"
    }
   ],
   "source": [
    "pd.value_counts(known_text.split(' ')).head(20)"
   ]
  },
  {
   "cell_type": "code",
   "execution_count": 64,
   "id": "17c4b175-ddc9-4186-9409-52bd3b79ce15",
   "metadata": {},
   "outputs": [
    {
     "name": "stderr",
     "output_type": "stream",
     "text": [
      "/tmp/ipykernel_142466/115358291.py:1: FutureWarning: pandas.value_counts is deprecated and will be removed in a future version. Use pd.Series(obj).value_counts() instead.\n",
      "  pd.value_counts(text.lower().split(' ')).head(20)\n",
      "/tmp/ipykernel_142466/115358291.py:1: FutureWarning: value_counts with argument that is not not a Series, Index, ExtensionArray, or np.ndarray is deprecated and will raise in a future version.\n",
      "  pd.value_counts(text.lower().split(' ')).head(20)\n"
     ]
    },
    {
     "data": {
      "text/plain": [
       "boi             38\n",
       "bto             32\n",
       "to              23\n",
       "boo             21\n",
       "oob             17\n",
       "tüi             16\n",
       "noo             15\n",
       "oo              15\n",
       "ntitoojjoo      12\n",
       "zo              11\n",
       "iojt            11\n",
       "ott             11\n",
       "ooob            10\n",
       "toooj           10\n",
       "oot              9\n",
       "tooijtoooitt     8\n",
       "kooboo           7\n",
       "totitx           6\n",
       "otooi            6\n",
       "kiottnoit        6\n",
       "Name: count, dtype: int64"
      ]
     },
     "execution_count": 64,
     "metadata": {},
     "output_type": "execute_result"
    }
   ],
   "source": [
    "pd.value_counts(text.lower().split(' ')).head(20)"
   ]
  },
  {
   "cell_type": "code",
   "execution_count": 75,
   "id": "911b8eae-e9a6-4393-90f3-483f2e7ed57b",
   "metadata": {},
   "outputs": [
    {
     "data": {
      "text/plain": [
       "{'i': 'sr',\n",
       " 'o': 'aenu',\n",
       " 'j': 'glj',\n",
       " 't': 'tif',\n",
       " 'd': 'b',\n",
       " 'ü': 'ü',\n",
       " 'b': 'dth',\n",
       " 'z': 'z'}"
      ]
     },
     "execution_count": 75,
     "metadata": {},
     "output_type": "execute_result"
    }
   ],
   "source": [
    "pairs = [\n",
    "('iojt','sagt'),\n",
    "('doijto', 'berlin'),\n",
    "(\"tüi\", \"für\"),\n",
    "('boi', 'der'),\n",
    "('bto' 'die'),\n",
    "('boo','den'),\n",
    "('zo', 'zu'),\n",
    "('jobi', 'jahr')\n",
    "]\n",
    "\n",
    "rules = {}\n",
    "for pair in pairs:\n",
    "    for c, s in zip(pair[0],pair[1]):\n",
    "        if c in rules:\n",
    "            if s not in rules[c]:\n",
    "                rules[c] += s\n",
    "        else:\n",
    "            rules[c] = s\n",
    "rules"
   ]
  },
  {
   "cell_type": "code",
   "execution_count": null,
   "id": "bb567faf-c3a6-4bf8-919d-4c84a5164775",
   "metadata": {},
   "outputs": [],
   "source": []
  }
 ],
 "metadata": {
  "kernelspec": {
   "display_name": "Python 3 (ipykernel)",
   "language": "python",
   "name": "python3"
  },
  "language_info": {
   "codemirror_mode": {
    "name": "ipython",
    "version": 3
   },
   "file_extension": ".py",
   "mimetype": "text/x-python",
   "name": "python",
   "nbconvert_exporter": "python",
   "pygments_lexer": "ipython3",
   "version": "3.12.9"
  }
 },
 "nbformat": 4,
 "nbformat_minor": 5
}

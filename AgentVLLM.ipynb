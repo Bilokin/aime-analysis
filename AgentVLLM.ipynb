{
 "cells": [
  {
   "cell_type": "code",
   "execution_count": 8,
   "id": "101cff18-967d-4844-a4fc-1f2bcc370a9f",
   "metadata": {},
   "outputs": [],
   "source": [
    "from smolagents import CodeAgent, DuckDuckGoSearchTool, Model, Tool, ChatMessage\n",
    "from smolagents.models import remove_stop_sequences\n",
    "from typing import TYPE_CHECKING, Any, Dict, List, Optional, Union\n",
    "from PIL import Image\n",
    "import torch\n",
    "import os\n"
   ]
  },
  {
   "cell_type": "code",
   "execution_count": 4,
   "id": "cbf0f339-8e5c-408a-b018-ce8274d8872f",
   "metadata": {},
   "outputs": [
    {
     "name": "stdout",
     "output_type": "stream",
     "text": [
      "INFO 02-25 10:43:53 config.py:560] This model supports multiple tasks: {'embed', 'score', 'reward', 'generate', 'classify'}. Defaulting to 'generate'.\n",
      "WARNING 02-25 10:43:53 arg_utils.py:1223] The model has a long context length (131072). This may cause OOM errors during the initial memory profiling phase, or result in low performance due to small KV cache space. Consider setting --max-model-len to a smaller value.\n",
      "WARNING 02-25 10:43:53 config.py:696] Async output processing is not supported on the current platform type cpu.\n",
      "WARNING 02-25 10:43:53 cpu.py:63] CUDA graph is not supported on CPU, fallback to the eager mode.\n",
      "WARNING 02-25 10:43:53 cpu.py:78] Environment variable VLLM_CPU_KVCACHE_SPACE (GB) for CPU backend is not set, using 4 by default.\n",
      "WARNING 02-25 10:43:53 cpu.py:99] uni is not supported on CPU, fallback to mp distributed executor backend.\n",
      "INFO 02-25 10:43:53 llm_engine.py:234] Initializing a V0 LLM engine (v0.7.4.dev53+geb24dc4a.d20250223+cpu) with config: model='meta-llama/Llama-3.2-1B-Instruct', speculative_config=None, tokenizer='meta-llama/Llama-3.2-1B-Instruct', skip_tokenizer_init=False, tokenizer_mode=auto, revision=None, override_neuron_config=None, tokenizer_revision=None, trust_remote_code=False, dtype=torch.bfloat16, max_seq_len=131072, download_dir=None, load_format=LoadFormat.AUTO, tensor_parallel_size=1, pipeline_parallel_size=1, disable_custom_all_reduce=False, quantization=None, enforce_eager=True, kv_cache_dtype=auto,  device_config=cpu, decoding_config=DecodingConfig(guided_decoding_backend='xgrammar'), observability_config=ObservabilityConfig(show_hidden_metrics=False, otlp_traces_endpoint=None, collect_model_forward_time=False, collect_model_execute_time=False), seed=0, served_model_name=meta-llama/Llama-3.2-1B-Instruct, num_scheduler_steps=1, multi_step_stream_outputs=True, enable_prefix_caching=False, chunked_prefill_enabled=False, use_async_output_proc=False, disable_mm_preprocessor_cache=False, mm_processor_kwargs=None, pooler_config=None, compilation_config={\"splitting_ops\":[],\"compile_sizes\":[],\"cudagraph_capture_sizes\":[256,248,240,232,224,216,208,200,192,184,176,168,160,152,144,136,128,120,112,104,96,88,80,72,64,56,48,40,32,24,16,8,4,2,1],\"max_capture_size\":256}, use_cached_outputs=False, \n",
      "INFO 02-25 10:43:54 weight_utils.py:254] Using model weights format ['*.safetensors']\n",
      "INFO 02-25 10:43:55 weight_utils.py:304] No model.safetensors.index.json found in remote.\n"
     ]
    },
    {
     "name": "stderr",
     "output_type": "stream",
     "text": [
      "Loading safetensors checkpoint shards:   0% Completed | 0/1 [00:00<?, ?it/s]\n",
      "Loading safetensors checkpoint shards: 100% Completed | 1/1 [00:01<00:00,  1.04s/it]\n",
      "Loading safetensors checkpoint shards: 100% Completed | 1/1 [00:01<00:00,  1.04s/it]\n"
     ]
    },
    {
     "name": "stdout",
     "output_type": "stream",
     "text": [
      "INFO 02-25 10:43:56 executor_base.py:111] # cpu blocks: 8192, # CPU blocks: 0\n",
      "INFO 02-25 10:43:56 executor_base.py:116] Maximum concurrency for 131072 tokens per request: 1.00x\n"
     ]
    },
    {
     "name": "stderr",
     "output_type": "stream",
     "text": [
      "\n"
     ]
    },
    {
     "name": "stdout",
     "output_type": "stream",
     "text": [
      "INFO 02-25 10:43:56 llm_engine.py:436] init engine (profile, create kv cache, warmup model) took 0.51 seconds\n"
     ]
    }
   ],
   "source": [
    "class VLLMModel(Model):\n",
    "    \n",
    "    def __init__(\n",
    "        self,\n",
    "        model_id: str,\n",
    "        sampling_kwargs: dict = None,\n",
    "        init_kwargs: dict = None,\n",
    "        chat_kw_args: dict = None,\n",
    "        **kwargs\n",
    "    ):\n",
    "        super().__init__(**kwargs)\n",
    "        default_model_id = \"HuggingFaceTB/SmolLM2-1.7B-Instruct\"\n",
    "        if model_id is None:\n",
    "            model_id = default_model_id\n",
    "            logger.warning(f\"`model_id`not provided, using this default model: '{model_id}'\")\n",
    "        self.model_id = model_id\n",
    "        from vllm import LLM, SamplingParams\n",
    "        if not init_kwargs:\n",
    "            init_kwargs = {}\n",
    "        if not sampling_kwargs:\n",
    "            sampling_kwargs = {}\n",
    "        default_max_tokens = 5000\n",
    "        max_new_tokens = sampling_kwargs.get(\"max_new_tokens\") or sampling_kwargs.get(\"max_tokens\")\n",
    "        if not max_new_tokens:\n",
    "            kwargs[\"max_new_tokens\"] = default_max_tokens\n",
    "            logger.warning(\n",
    "                f\"`max_new_tokens` not provided, using this default value for `max_new_tokens`: {default_max_tokens}\"\n",
    "            )\n",
    "        self.kwargs = kwargs\n",
    "        self.sampling_params = SamplingParams(**sampling_kwargs)\n",
    "        self.model = LLM(model=model_id, **init_kwargs)\n",
    "        self._is_vlm = False\n",
    "\n",
    "        \n",
    "    def __call__(\n",
    "        self,\n",
    "        messages: List[Dict[str, str]],\n",
    "        stop_sequences: Optional[List[str]] = None,\n",
    "        grammar: Optional[str] = None,\n",
    "        tools_to_call_from: Optional[List[Tool]] = None,\n",
    "        images: Optional[List[Image.Image]] = None,\n",
    "        **kwargs,\n",
    "    ) -> ChatMessage:\n",
    "        max_new_tokens = (\n",
    "            kwargs.get(\"max_new_tokens\")\n",
    "            or kwargs.get(\"max_tokens\")\n",
    "            or self.kwargs.get(\"max_new_tokens\")\n",
    "            or self.kwargs.get(\"max_tokens\")\n",
    "        )\n",
    "        completion_kwargs = {}\n",
    "        if max_new_tokens:\n",
    "            completion_kwargs[\"max_new_tokens\"] = max_new_tokens\n",
    "        import torch\n",
    "\n",
    "        out = self.model.chat(messages, \n",
    "                              sampling_params=self.sampling_params,\n",
    "                              use_tqdm=False)\n",
    "        output = out[-1].outputs[-1].text\n",
    "        if stop_sequences is not None:\n",
    "            output = remove_stop_sequences(output, stop_sequences)\n",
    "        raw = {'output': torch.tensor(out[-1].outputs[-1].token_ids), \n",
    "               \"completion_kwargs\": completion_kwargs}\n",
    "        if tools_to_call_from is None:\n",
    "            return ChatMessage(\n",
    "                role=\"assistant\",\n",
    "                content=output,\n",
    "                raw=raw,\n",
    "            )\n",
    "        else:\n",
    "            if \"Action:\" in output:\n",
    "                output = output.split(\"Action:\", 1)[1].strip()\n",
    "            try:\n",
    "                start_index = output.index(\"{\")\n",
    "                end_index = output.rindex(\"}\")\n",
    "                output = output[start_index : end_index + 1]\n",
    "            except Exception as e:\n",
    "                raise Exception(\"No json blob found in output!\") from e\n",
    "\n",
    "            try:\n",
    "                parsed_output = json.loads(output)\n",
    "            except json.JSONDecodeError as e:\n",
    "                raise ValueError(f\"Tool call '{output}' has an invalid JSON structure: {e}\")\n",
    "            tool_name = parsed_output.get(\"name\")\n",
    "            tool_arguments = parsed_output.get(\"arguments\")\n",
    "            return ChatMessage(\n",
    "                role=\"assistant\",\n",
    "                content=\"\",\n",
    "                tool_calls=[\n",
    "                    ChatMessageToolCall(\n",
    "                        id=\"\".join(random.choices(\"0123456789\", k=5)),\n",
    "                        type=\"function\",\n",
    "                        function=ChatMessageToolCallDefinition(name=tool_name, arguments=tool_arguments),\n",
    "                    )\n",
    "                ],\n",
    "                raw=raw,\n",
    "            )\n",
    "\n",
    "\n",
    "model_name = 'meta-llama/Llama-3.2-1B-Instruct'\n",
    "#model_name = \"facebook/opt-125m\"\n",
    "model = VLLMModel(model_name, sampling_kwargs={'max_tokens': 6000, 'temperature':0.8, 'top_p':0.95})"
   ]
  },
  {
   "cell_type": "code",
   "execution_count": 5,
   "id": "964a5946-3c68-424f-aadb-d6d093893397",
   "metadata": {},
   "outputs": [
    {
     "name": "stdout",
     "output_type": "stream",
     "text": [
      "INFO 02-25 10:43:57 chat_utils.py:332] Detected the chat template content format to be 'string'. You can set `--chat-template-content-format` to override this.\n",
      "WARNING 02-25 10:44:00 cpu.py:143] Pin memory is not supported on CPU.\n"
     ]
    },
    {
     "data": {
      "text/plain": [
       "ChatMessage(role='assistant', content=\"The Importance of Higher Education: Unlocking the Potential of the Next Generation\\n\\nHigher education has long been regarded as the key to unlocking the potential of individuals, societies, and economies. It is the bridge between theoretical knowledge and practical application, fostering personal growth, skill-building, and social mobility. In today's fast-paced, technology-driven world, having a higher education is no longer a luxury but a necessity for success. The benefits of higher education extend far beyond the classroom, impacting individuals, communities, and the world at large.\\n\\nOne of the most significant advantages of higher education is the acquisition of knowledge and skills that enable individuals to adapt to an ever-changing job market. In today's economy, the pace of technological advancements, globalization, and shifting industries require workers to possess a broad range of skills, including critical thinking, creativity, problem-solving, and communication. Higher education provides individuals with the opportunity to develop these skills, enabling them to compete effectively in the job market. Moreover, studies have shown that individuals with higher education degrees are more likely to secure better-paying jobs, enjoy greater career advancement opportunities, and experience lower unemployment rates.\\n\\nHigher education also plays a crucial role in promoting social mobility and reducing inequality. Access to higher education is a significant factor in breaking the cycle of poverty and social exclusion. In many developing countries, educational institutions provide equal opportunities for all, regardless of socio-economic status, ethnicity, or geographical location. This access enables individuals from disadvantaged backgrounds to improve their socio-economic circumstances, eventually rising above poverty and social disparities.\\n\\nFurthermore, higher education has a direct impact on an individual's physical and mental well-being. Studies have shown that individuals with higher education are less likely to experience stress, anxiety, and depression, and are more likely to engage in healthy behaviors, such as regular exercise and a balanced diet. Moreover, higher education can provide individuals with a sense of purpose and fulfillment, enhancing their overall quality of life.\\n\\nThe economic benefits of higher education extend beyond individual benefits. Investing in higher education can have significant economic returns, as countries with higher literacy rates, higher educational attainment, and higher economic growth rates tend to experience lower poverty rates, reduced inequality, and increased economic competitiveness.\\n\\nIn conclusion, higher education is a vital component of a well-rounded education system. It enables individuals to acquire the skills, knowledge, and expertise needed to succeed in a rapidly changing world. By promoting social mobility, improving health outcomes, and generating economic returns, higher education plays a critical role in fostering a more prosperous and equitable society. As the world grapples with the challenges of the 21st century, investing in higher education is essential for building a brighter future for all.\\n\\nReferences:\\n\\n* Organisation for Economic Co-operation and Development (OECD). (2020). Education at a Glance 2020: Country Profiles.\\n* World Bank. (2020). The World Bank's Global Education Indicators.\\n* World Economic Forum. (2020). The Future of Jobs Report 2020.\\n* National Institute for Economic and Social Research. (2019). The Impact of Higher Education on Earning Potential.\\n\\nI hope this essay meets your requirements.\", tool_calls=None, raw={'output': tensor([   791,  94100,    315,  35321,  11930,     25,  58530,    287,    279,\n",
       "         55057,    315,    279,   9479,  24367,    271,  88545,   6873,    706,\n",
       "          1317,   1027,  27458,    439,    279,   1401,    311,  80478,    279,\n",
       "          4754,    315,   7931,     11,  34775,     11,    323,  37671,     13,\n",
       "          1102,    374,    279,  14497,   1990,  32887,   6677,    323,  15325,\n",
       "          3851,     11,  86644,   4443,   6650,     11,  10151,  52499,     11,\n",
       "           323,   3674,  31139,     13,    763,   3432,    596,   5043,  65319,\n",
       "            11,   5557,  32505,   1917,     11,   3515,    264,   5190,   6873,\n",
       "           374,    912,   5129,    264,  19913,    719,    264,  32961,    369,\n",
       "          2450,     13,    578,   7720,    315,   5190,   6873,  13334,   3117,\n",
       "          7953,    279,  24978,     11,  74055,   7931,     11,  10977,     11,\n",
       "           323,    279,   1917,    520,   3544,    382,   4054,    315,    279,\n",
       "          1455,   5199,  22934,    315,   5190,   6873,    374,    279,  24279,\n",
       "           315,   6677,    323,   7512,    430,   7431,   7931,    311,  10737,\n",
       "           311,    459,   3596,  49961,   2683,   3157,     13,    763,   3432,\n",
       "           596,   8752,     11,    279,  18338,    315,  30116,  83787,     11,\n",
       "         81069,     11,    323,  32931,  19647,   1397,   7487,    311,  15575,\n",
       "           264,   7353,   2134,    315,   7512,     11,   2737,   9200,   7422,\n",
       "            11,  28697,     11,   3575,  99246,     11,    323,  10758,     13,\n",
       "         35321,   6873,   5825,   7931,    449,    279,   6776,    311,   2274,\n",
       "          1521,   7512,     11,  28462,   1124,    311,  20874,  13750,    304,\n",
       "           279,   2683,   3157,     13,  23674,     11,   7978,    617,   6982,\n",
       "           430,   7931,    449,   5190,   6873,  12628,    527,    810,   4461,\n",
       "           311,   9966,   2731,  89823,   7032,     11,   4774,   7191,   7076,\n",
       "         50925,  10708,     11,    323,   3217,   4827,  26690,   7969,    382,\n",
       "         88545,   6873,   1101,  11335,    264,  16996,   3560,    304,  22923,\n",
       "          3674,  31139,    323,  18189,  32305,     13,   9742,    311,   5190,\n",
       "          6873,    374,    264,   5199,   8331,    304,  15061,    279,  11008,\n",
       "           315,  19542,    323,   3674,  42308,     13,    763,   1690,  11469,\n",
       "          5961,     11,  16627,  14673,   3493,   6273,  10708,    369,    682,\n",
       "            11,  15851,    315,  41589,  77249,   2704,     11,  57978,     11,\n",
       "           477,  54001,   3813,     13,   1115,   2680,  20682,   7931,    505,\n",
       "         80947,  36576,    311,   7417,    872,  41589,  77249,  13463,     11,\n",
       "          9778,  16448,   3485,  19542,    323,   3674,  83057,    382,  57417,\n",
       "            11,   5190,   6873,    706,    264,   2167,   5536,    389,    459,\n",
       "          3927,    596,   7106,    323,  10723,   1664,  33851,     13,  19241,\n",
       "           617,   6982,    430,   7931,    449,   5190,   6873,    527,   2753,\n",
       "          4461,    311,   3217,   8631,     11,  18547,     11,    323,  18710,\n",
       "            11,    323,    527,    810,   4461,    311,  16988,    304,   9498,\n",
       "         28198,     11,   1778,    439,   5912,  10368,    323,    264,  24770,\n",
       "         10173,     13,  23674,     11,   5190,   6873,    649,   3493,   7931,\n",
       "           449,    264,   5647,    315,   7580,    323,  57383,     11,  47594,\n",
       "           872,   8244,   4367,    315,   2324,    382,    791,   7100,   7720,\n",
       "           315,   5190,   6873,  13334,   7953,   3927,   7720,     13,  93696,\n",
       "           304,   5190,   6873,    649,    617,   5199,   7100,   4780,     11,\n",
       "           439,   5961,    449,   5190,  53082,   7969,     11,   5190,  16627,\n",
       "         93965,     11,    323,   5190,   7100,   6650,   7969,   8541,    311,\n",
       "          3217,   4827,  19542,   7969,     11,  11293,  32305,     11,    323,\n",
       "          7319,   7100,  77651,    382,    644,  17102,     11,   5190,   6873,\n",
       "           374,    264,  16595,   3777,    315,    264,   1664,  65318,   6873,\n",
       "          1887,     13,   1102,  20682,   7931,    311,  21953,    279,   7512,\n",
       "            11,   6677,     11,    323,  19248,   4460,    311,  12265,    304,\n",
       "           264,  19019,  10223,   1917,     13,   3296,  22923,   3674,  31139,\n",
       "            11,  18899,   2890,  20124,     11,    323,  24038,   7100,   4780,\n",
       "            11,   5190,   6873,  11335,    264,   9200,   3560,    304,  86644,\n",
       "           264,    810,  71407,    323,  77109,   8396,     13,   1666,    279,\n",
       "          1917,   1099,    680,    645,    449,    279,  11774,    315,    279,\n",
       "           220,   1691,    267,   9478,     11,  26012,    304,   5190,   6873,\n",
       "           374,   7718,    369,   4857,    264,  53657,   3938,    369,    682,\n",
       "           382,  32812,   1473,      9,  47843,    369,  23362,   3623,  67334,\n",
       "           323,  11050,    320,  53965,   6620,    570,    320,   2366,     15,\n",
       "           570,  11930,    520,    264,   8444,    685,    220,   2366,     15,\n",
       "            25,  14438,  72827,    627,      9,   4435,   8715,     13,    320,\n",
       "          2366,     15,    570,    578,   4435,   8715,    596,   8121,  11930,\n",
       "          2314,  43152,    627,      9,   4435,  23362,  17997,     13,    320,\n",
       "          2366,     15,    570,    578,  12781,    315,  23946,   8423,    220,\n",
       "          2366,     15,    627,      9,   5165,  10181,    369,  23362,    323,\n",
       "          9983,   8483,     13,    320,    679,     24,    570,    578,  29680,\n",
       "           315,  35321,  11930,    389,    469,   3256,  55057,    382,     40,\n",
       "          3987,    420,   9071,  20628,    701,   8670,     13, 128009]), 'completion_kwargs': {}})"
      ]
     },
     "execution_count": 5,
     "metadata": {},
     "output_type": "execute_result"
    }
   ],
   "source": [
    "conversation = [\n",
    "    {\n",
    "        \"role\": \"system\",\n",
    "        \"content\": \"You are a helpful assistant\"\n",
    "    },\n",
    "    {\n",
    "        \"role\": \"user\",\n",
    "        \"content\": \"Hello\"\n",
    "    },\n",
    "    {\n",
    "        \"role\": \"assistant\",\n",
    "        \"content\": \"Hello! How can I assist you today?\"\n",
    "    },\n",
    "    {\n",
    "        \"role\": \"user\",\n",
    "        \"content\": \"Write an essay about the importance of higher education.\",\n",
    "    },\n",
    "]\n",
    "response = model(conversation)\n",
    "response"
   ]
  },
  {
   "cell_type": "code",
   "execution_count": 7,
   "id": "81d7d74f-c5e8-4628-93f9-913af1c60bb3",
   "metadata": {},
   "outputs": [
    {
     "data": {
      "text/html": [
       "<pre style=\"white-space:pre;overflow-x:auto;line-height:normal;font-family:Menlo,'DejaVu Sans Mono',consolas,'Courier New',monospace\"><span style=\"color: #d4b702; text-decoration-color: #d4b702\">╭──────────────────────────────────────────────────── </span><span style=\"color: #d4b702; text-decoration-color: #d4b702; font-weight: bold\">New run</span><span style=\"color: #d4b702; text-decoration-color: #d4b702\"> ────────────────────────────────────────────────────╮</span>\n",
       "<span style=\"color: #d4b702; text-decoration-color: #d4b702\">│</span>                                                                                                                 <span style=\"color: #d4b702; text-decoration-color: #d4b702\">│</span>\n",
       "<span style=\"color: #d4b702; text-decoration-color: #d4b702\">│</span> <span style=\"font-weight: bold\">How many seconds would it take for a leopard at full speed to run through Pont des Arts?</span>                        <span style=\"color: #d4b702; text-decoration-color: #d4b702\">│</span>\n",
       "<span style=\"color: #d4b702; text-decoration-color: #d4b702\">│</span>                                                                                                                 <span style=\"color: #d4b702; text-decoration-color: #d4b702\">│</span>\n",
       "<span style=\"color: #d4b702; text-decoration-color: #d4b702\">╰─ VLLMModel - meta-llama/Llama-3.2-1B-Instruct ──────────────────────────────────────────────────────────────────╯</span>\n",
       "</pre>\n"
      ],
      "text/plain": [
       "\u001b[38;2;212;183;2m╭─\u001b[0m\u001b[38;2;212;183;2m───────────────────────────────────────────────────\u001b[0m\u001b[38;2;212;183;2m \u001b[0m\u001b[1;38;2;212;183;2mNew run\u001b[0m\u001b[38;2;212;183;2m \u001b[0m\u001b[38;2;212;183;2m───────────────────────────────────────────────────\u001b[0m\u001b[38;2;212;183;2m─╮\u001b[0m\n",
       "\u001b[38;2;212;183;2m│\u001b[0m                                                                                                                 \u001b[38;2;212;183;2m│\u001b[0m\n",
       "\u001b[38;2;212;183;2m│\u001b[0m \u001b[1mHow many seconds would it take for a leopard at full speed to run through Pont des Arts?\u001b[0m                        \u001b[38;2;212;183;2m│\u001b[0m\n",
       "\u001b[38;2;212;183;2m│\u001b[0m                                                                                                                 \u001b[38;2;212;183;2m│\u001b[0m\n",
       "\u001b[38;2;212;183;2m╰─\u001b[0m\u001b[38;2;212;183;2m VLLMModel - meta-llama/Llama-3.2-1B-Instruct \u001b[0m\u001b[38;2;212;183;2m─────────────────────────────────────────────────────────────────\u001b[0m\u001b[38;2;212;183;2m─╯\u001b[0m\n"
      ]
     },
     "metadata": {},
     "output_type": "display_data"
    },
    {
     "data": {
      "text/html": [
       "<pre style=\"white-space:pre;overflow-x:auto;line-height:normal;font-family:Menlo,'DejaVu Sans Mono',consolas,'Courier New',monospace\"><span style=\"color: #d4b702; text-decoration-color: #d4b702\">━━━━━━━━━━━━━━━━━━━━━━━━━━━━━━━━━━━━━━━━━━━━━━━━━━━━━ </span><span style=\"font-weight: bold\">Step </span><span style=\"color: #008080; text-decoration-color: #008080; font-weight: bold\">1</span><span style=\"color: #d4b702; text-decoration-color: #d4b702\"> ━━━━━━━━━━━━━━━━━━━━━━━━━━━━━━━━━━━━━━━━━━━━━━━━━━━━━━</span>\n",
       "</pre>\n"
      ],
      "text/plain": [
       "\u001b[38;2;212;183;2m━━━━━━━━━━━━━━━━━━━━━━━━━━━━━━━━━━━━━━━━━━━━━━━━━━━━━ \u001b[0m\u001b[1mStep \u001b[0m\u001b[1;36m1\u001b[0m\u001b[38;2;212;183;2m ━━━━━━━━━━━━━━━━━━━━━━━━━━━━━━━━━━━━━━━━━━━━━━━━━━━━━━\u001b[0m\n"
      ]
     },
     "metadata": {},
     "output_type": "display_data"
    },
    {
     "data": {
      "text/html": [
       "<pre style=\"white-space:pre;overflow-x:auto;line-height:normal;font-family:Menlo,'DejaVu Sans Mono',consolas,'Courier New',monospace\"><span style=\"color: #800000; text-decoration-color: #800000; font-weight: bold\">Error in generating model output:</span>\n",
       "\n",
       "</pre>\n"
      ],
      "text/plain": [
       "\u001b[1;31mError in generating model output:\u001b[0m\n",
       "\n"
      ]
     },
     "metadata": {},
     "output_type": "display_data"
    },
    {
     "data": {
      "text/html": [
       "<pre style=\"white-space:pre;overflow-x:auto;line-height:normal;font-family:Menlo,'DejaVu Sans Mono',consolas,'Courier New',monospace\"><span style=\"color: #7f7f7f; text-decoration-color: #7f7f7f\">[Step 1: Duration 146.70 seconds]</span>\n",
       "</pre>\n"
      ],
      "text/plain": [
       "\u001b[2m[Step 1: Duration 146.70 seconds]\u001b[0m\n"
      ]
     },
     "metadata": {},
     "output_type": "display_data"
    },
    {
     "data": {
      "text/html": [
       "<pre style=\"white-space:pre;overflow-x:auto;line-height:normal;font-family:Menlo,'DejaVu Sans Mono',consolas,'Courier New',monospace\"><span style=\"color: #d4b702; text-decoration-color: #d4b702\">━━━━━━━━━━━━━━━━━━━━━━━━━━━━━━━━━━━━━━━━━━━━━━━━━━━━━ </span><span style=\"font-weight: bold\">Step </span><span style=\"color: #008080; text-decoration-color: #008080; font-weight: bold\">2</span><span style=\"color: #d4b702; text-decoration-color: #d4b702\"> ━━━━━━━━━━━━━━━━━━━━━━━━━━━━━━━━━━━━━━━━━━━━━━━━━━━━━━</span>\n",
       "</pre>\n"
      ],
      "text/plain": [
       "\u001b[38;2;212;183;2m━━━━━━━━━━━━━━━━━━━━━━━━━━━━━━━━━━━━━━━━━━━━━━━━━━━━━ \u001b[0m\u001b[1mStep \u001b[0m\u001b[1;36m2\u001b[0m\u001b[38;2;212;183;2m ━━━━━━━━━━━━━━━━━━━━━━━━━━━━━━━━━━━━━━━━━━━━━━━━━━━━━━\u001b[0m\n"
      ]
     },
     "metadata": {},
     "output_type": "display_data"
    },
    {
     "data": {
      "text/html": [
       "<pre style=\"white-space:pre;overflow-x:auto;line-height:normal;font-family:Menlo,'DejaVu Sans Mono',consolas,'Courier New',monospace\"> ─ <span style=\"font-weight: bold\">Executing parsed code:</span> ──────────────────────────────────────────────────────────────────────────────────────── \n",
       "  <span style=\"color: #ff4689; text-decoration-color: #ff4689; background-color: #272822\">import</span><span style=\"color: #f8f8f2; text-decoration-color: #f8f8f2; background-color: #272822\"> math</span><span style=\"background-color: #272822\">                                                                                                    </span>  \n",
       "  <span style=\"background-color: #272822\">                                                                                                               </span>  \n",
       "  <span style=\"color: #959077; text-decoration-color: #959077; background-color: #272822\"># Speed of a leopard at full speed (in km/h)</span><span style=\"background-color: #272822\">                                                                   </span>  \n",
       "  <span style=\"color: #f8f8f2; text-decoration-color: #f8f8f2; background-color: #272822\">leopard_speed </span><span style=\"color: #ff4689; text-decoration-color: #ff4689; background-color: #272822\">=</span><span style=\"color: #f8f8f2; text-decoration-color: #f8f8f2; background-color: #272822\"> </span><span style=\"color: #ae81ff; text-decoration-color: #ae81ff; background-color: #272822\">80</span><span style=\"background-color: #272822\">                                                                                             </span>  \n",
       "  <span style=\"background-color: #272822\">                                                                                                               </span>  \n",
       "  <span style=\"color: #959077; text-decoration-color: #959077; background-color: #272822\"># Distance between Pont des Arts and Champs-de-Mars (in km)</span><span style=\"background-color: #272822\">                                                    </span>  \n",
       "  <span style=\"color: #f8f8f2; text-decoration-color: #f8f8f2; background-color: #272822\">distance </span><span style=\"color: #ff4689; text-decoration-color: #ff4689; background-color: #272822\">=</span><span style=\"color: #f8f8f2; text-decoration-color: #f8f8f2; background-color: #272822\"> </span><span style=\"color: #ae81ff; text-decoration-color: #ae81ff; background-color: #272822\">138.0</span><span style=\"color: #f8f8f2; text-decoration-color: #f8f8f2; background-color: #272822\">  </span><span style=\"color: #959077; text-decoration-color: #959077; background-color: #272822\"># meters to the east of Paris, then to Champs-de-Mars (in meters)</span><span style=\"background-color: #272822\">                            </span>  \n",
       "  <span style=\"background-color: #272822\">                                                                                                               </span>  \n",
       "  <span style=\"color: #959077; text-decoration-color: #959077; background-color: #272822\"># Convert distance from km to m</span><span style=\"background-color: #272822\">                                                                                </span>  \n",
       "  <span style=\"color: #f8f8f2; text-decoration-color: #f8f8f2; background-color: #272822\">distance_meters </span><span style=\"color: #ff4689; text-decoration-color: #ff4689; background-color: #272822\">=</span><span style=\"color: #f8f8f2; text-decoration-color: #f8f8f2; background-color: #272822\"> distance </span><span style=\"color: #ff4689; text-decoration-color: #ff4689; background-color: #272822\">*</span><span style=\"color: #f8f8f2; text-decoration-color: #f8f8f2; background-color: #272822\"> </span><span style=\"color: #ae81ff; text-decoration-color: #ae81ff; background-color: #272822\">1000</span><span style=\"background-color: #272822\">                                                                              </span>  \n",
       "  <span style=\"background-color: #272822\">                                                                                                               </span>  \n",
       "  <span style=\"color: #959077; text-decoration-color: #959077; background-color: #272822\"># Calculate time</span><span style=\"background-color: #272822\">                                                                                               </span>  \n",
       "  <span style=\"color: #f8f8f2; text-decoration-color: #f8f8f2; background-color: #272822\">time_hours </span><span style=\"color: #ff4689; text-decoration-color: #ff4689; background-color: #272822\">=</span><span style=\"color: #f8f8f2; text-decoration-color: #f8f8f2; background-color: #272822\"> distance_meters </span><span style=\"color: #ff4689; text-decoration-color: #ff4689; background-color: #272822\">/</span><span style=\"color: #f8f8f2; text-decoration-color: #f8f8f2; background-color: #272822\"> leopard_speed</span><span style=\"background-color: #272822\">                                                                   </span>  \n",
       "  <span style=\"background-color: #272822\">                                                                                                               </span>  \n",
       "  <span style=\"color: #959077; text-decoration-color: #959077; background-color: #272822\"># Convert time from hours to seconds</span><span style=\"background-color: #272822\">                                                                           </span>  \n",
       "  <span style=\"color: #f8f8f2; text-decoration-color: #f8f8f2; background-color: #272822\">time_seconds </span><span style=\"color: #ff4689; text-decoration-color: #ff4689; background-color: #272822\">=</span><span style=\"color: #f8f8f2; text-decoration-color: #f8f8f2; background-color: #272822\"> time_hours </span><span style=\"color: #ff4689; text-decoration-color: #ff4689; background-color: #272822\">*</span><span style=\"color: #f8f8f2; text-decoration-color: #f8f8f2; background-color: #272822\"> </span><span style=\"color: #ae81ff; text-decoration-color: #ae81ff; background-color: #272822\">3600</span><span style=\"background-color: #272822\">                                                                               </span>  \n",
       "  <span style=\"background-color: #272822\">                                                                                                               </span>  \n",
       "  <span style=\"color: #f8f8f2; text-decoration-color: #f8f8f2; background-color: #272822\">print(</span><span style=\"color: #e6db74; text-decoration-color: #e6db74; background-color: #272822\">\"The leopard would take approximately\"</span><span style=\"color: #f8f8f2; text-decoration-color: #f8f8f2; background-color: #272822\">, time_seconds, </span><span style=\"color: #e6db74; text-decoration-color: #e6db74; background-color: #272822\">\"seconds to run through Pont des Arts.\"</span><span style=\"color: #f8f8f2; text-decoration-color: #f8f8f2; background-color: #272822\">)</span><span style=\"background-color: #272822\">           </span>  \n",
       "  <span style=\"color: #f8f8f2; text-decoration-color: #f8f8f2; background-color: #272822\">final_answer(time_seconds)</span><span style=\"background-color: #272822\">                                                                                     </span>  \n",
       " ───────────────────────────────────────────────────────────────────────────────────────────────────────────────── \n",
       "</pre>\n"
      ],
      "text/plain": [
       " ─ \u001b[1mExecuting parsed code:\u001b[0m ──────────────────────────────────────────────────────────────────────────────────────── \n",
       "  \u001b[38;2;255;70;137;48;2;39;40;34mimport\u001b[0m\u001b[38;2;248;248;242;48;2;39;40;34m \u001b[0m\u001b[38;2;248;248;242;48;2;39;40;34mmath\u001b[0m\u001b[48;2;39;40;34m                                                                                                    \u001b[0m  \n",
       "  \u001b[48;2;39;40;34m                                                                                                               \u001b[0m  \n",
       "  \u001b[38;2;149;144;119;48;2;39;40;34m# Speed of a leopard at full speed (in km/h)\u001b[0m\u001b[48;2;39;40;34m                                                                   \u001b[0m  \n",
       "  \u001b[38;2;248;248;242;48;2;39;40;34mleopard_speed\u001b[0m\u001b[38;2;248;248;242;48;2;39;40;34m \u001b[0m\u001b[38;2;255;70;137;48;2;39;40;34m=\u001b[0m\u001b[38;2;248;248;242;48;2;39;40;34m \u001b[0m\u001b[38;2;174;129;255;48;2;39;40;34m80\u001b[0m\u001b[48;2;39;40;34m                                                                                             \u001b[0m  \n",
       "  \u001b[48;2;39;40;34m                                                                                                               \u001b[0m  \n",
       "  \u001b[38;2;149;144;119;48;2;39;40;34m# Distance between Pont des Arts and Champs-de-Mars (in km)\u001b[0m\u001b[48;2;39;40;34m                                                    \u001b[0m  \n",
       "  \u001b[38;2;248;248;242;48;2;39;40;34mdistance\u001b[0m\u001b[38;2;248;248;242;48;2;39;40;34m \u001b[0m\u001b[38;2;255;70;137;48;2;39;40;34m=\u001b[0m\u001b[38;2;248;248;242;48;2;39;40;34m \u001b[0m\u001b[38;2;174;129;255;48;2;39;40;34m138.0\u001b[0m\u001b[38;2;248;248;242;48;2;39;40;34m  \u001b[0m\u001b[38;2;149;144;119;48;2;39;40;34m# meters to the east of Paris, then to Champs-de-Mars (in meters)\u001b[0m\u001b[48;2;39;40;34m                            \u001b[0m  \n",
       "  \u001b[48;2;39;40;34m                                                                                                               \u001b[0m  \n",
       "  \u001b[38;2;149;144;119;48;2;39;40;34m# Convert distance from km to m\u001b[0m\u001b[48;2;39;40;34m                                                                                \u001b[0m  \n",
       "  \u001b[38;2;248;248;242;48;2;39;40;34mdistance_meters\u001b[0m\u001b[38;2;248;248;242;48;2;39;40;34m \u001b[0m\u001b[38;2;255;70;137;48;2;39;40;34m=\u001b[0m\u001b[38;2;248;248;242;48;2;39;40;34m \u001b[0m\u001b[38;2;248;248;242;48;2;39;40;34mdistance\u001b[0m\u001b[38;2;248;248;242;48;2;39;40;34m \u001b[0m\u001b[38;2;255;70;137;48;2;39;40;34m*\u001b[0m\u001b[38;2;248;248;242;48;2;39;40;34m \u001b[0m\u001b[38;2;174;129;255;48;2;39;40;34m1000\u001b[0m\u001b[48;2;39;40;34m                                                                              \u001b[0m  \n",
       "  \u001b[48;2;39;40;34m                                                                                                               \u001b[0m  \n",
       "  \u001b[38;2;149;144;119;48;2;39;40;34m# Calculate time\u001b[0m\u001b[48;2;39;40;34m                                                                                               \u001b[0m  \n",
       "  \u001b[38;2;248;248;242;48;2;39;40;34mtime_hours\u001b[0m\u001b[38;2;248;248;242;48;2;39;40;34m \u001b[0m\u001b[38;2;255;70;137;48;2;39;40;34m=\u001b[0m\u001b[38;2;248;248;242;48;2;39;40;34m \u001b[0m\u001b[38;2;248;248;242;48;2;39;40;34mdistance_meters\u001b[0m\u001b[38;2;248;248;242;48;2;39;40;34m \u001b[0m\u001b[38;2;255;70;137;48;2;39;40;34m/\u001b[0m\u001b[38;2;248;248;242;48;2;39;40;34m \u001b[0m\u001b[38;2;248;248;242;48;2;39;40;34mleopard_speed\u001b[0m\u001b[48;2;39;40;34m                                                                   \u001b[0m  \n",
       "  \u001b[48;2;39;40;34m                                                                                                               \u001b[0m  \n",
       "  \u001b[38;2;149;144;119;48;2;39;40;34m# Convert time from hours to seconds\u001b[0m\u001b[48;2;39;40;34m                                                                           \u001b[0m  \n",
       "  \u001b[38;2;248;248;242;48;2;39;40;34mtime_seconds\u001b[0m\u001b[38;2;248;248;242;48;2;39;40;34m \u001b[0m\u001b[38;2;255;70;137;48;2;39;40;34m=\u001b[0m\u001b[38;2;248;248;242;48;2;39;40;34m \u001b[0m\u001b[38;2;248;248;242;48;2;39;40;34mtime_hours\u001b[0m\u001b[38;2;248;248;242;48;2;39;40;34m \u001b[0m\u001b[38;2;255;70;137;48;2;39;40;34m*\u001b[0m\u001b[38;2;248;248;242;48;2;39;40;34m \u001b[0m\u001b[38;2;174;129;255;48;2;39;40;34m3600\u001b[0m\u001b[48;2;39;40;34m                                                                               \u001b[0m  \n",
       "  \u001b[48;2;39;40;34m                                                                                                               \u001b[0m  \n",
       "  \u001b[38;2;248;248;242;48;2;39;40;34mprint\u001b[0m\u001b[38;2;248;248;242;48;2;39;40;34m(\u001b[0m\u001b[38;2;230;219;116;48;2;39;40;34m\"\u001b[0m\u001b[38;2;230;219;116;48;2;39;40;34mThe leopard would take approximately\u001b[0m\u001b[38;2;230;219;116;48;2;39;40;34m\"\u001b[0m\u001b[38;2;248;248;242;48;2;39;40;34m,\u001b[0m\u001b[38;2;248;248;242;48;2;39;40;34m \u001b[0m\u001b[38;2;248;248;242;48;2;39;40;34mtime_seconds\u001b[0m\u001b[38;2;248;248;242;48;2;39;40;34m,\u001b[0m\u001b[38;2;248;248;242;48;2;39;40;34m \u001b[0m\u001b[38;2;230;219;116;48;2;39;40;34m\"\u001b[0m\u001b[38;2;230;219;116;48;2;39;40;34mseconds to run through Pont des Arts.\u001b[0m\u001b[38;2;230;219;116;48;2;39;40;34m\"\u001b[0m\u001b[38;2;248;248;242;48;2;39;40;34m)\u001b[0m\u001b[48;2;39;40;34m           \u001b[0m  \n",
       "  \u001b[38;2;248;248;242;48;2;39;40;34mfinal_answer\u001b[0m\u001b[38;2;248;248;242;48;2;39;40;34m(\u001b[0m\u001b[38;2;248;248;242;48;2;39;40;34mtime_seconds\u001b[0m\u001b[38;2;248;248;242;48;2;39;40;34m)\u001b[0m\u001b[48;2;39;40;34m                                                                                     \u001b[0m  \n",
       " ───────────────────────────────────────────────────────────────────────────────────────────────────────────────── \n"
      ]
     },
     "metadata": {},
     "output_type": "display_data"
    },
    {
     "data": {
      "text/html": [
       "<pre style=\"white-space:pre;overflow-x:auto;line-height:normal;font-family:Menlo,'DejaVu Sans Mono',consolas,'Courier New',monospace\"><span style=\"font-weight: bold\">Execution logs:</span>\n",
       "The leopard would take approximately 6210000.0 seconds to run through Pont des Arts.\n",
       "\n",
       "<span style=\"color: #d4b702; text-decoration-color: #d4b702; font-weight: bold\">Out - Final answer: 6210000.0</span>\n",
       "</pre>\n"
      ],
      "text/plain": [
       "\u001b[1mExecution logs:\u001b[0m\n",
       "The leopard would take approximately 6210000.0 seconds to run through Pont des Arts.\n",
       "\n",
       "\u001b[1;38;2;212;183;2mOut - Final answer: 6210000.0\u001b[0m\n"
      ]
     },
     "metadata": {},
     "output_type": "display_data"
    },
    {
     "data": {
      "text/html": [
       "<pre style=\"white-space:pre;overflow-x:auto;line-height:normal;font-family:Menlo,'DejaVu Sans Mono',consolas,'Courier New',monospace\"><span style=\"color: #7f7f7f; text-decoration-color: #7f7f7f\">[Step 2: Duration 205.51 seconds]</span>\n",
       "</pre>\n"
      ],
      "text/plain": [
       "\u001b[2m[Step 2: Duration 205.51 seconds]\u001b[0m\n"
      ]
     },
     "metadata": {},
     "output_type": "display_data"
    },
    {
     "data": {
      "text/plain": [
       "6210000.0"
      ]
     },
     "execution_count": 7,
     "metadata": {},
     "output_type": "execute_result"
    }
   ],
   "source": [
    "\n",
    "agent = CodeAgent(tools=[DuckDuckGoSearchTool()], model=model, )\n",
    "\n",
    "agent.run(\"How many seconds would it take for a leopard at full speed to run through Pont des Arts?\")"
   ]
  },
  {
   "cell_type": "code",
   "execution_count": null,
   "id": "f5551f71-4d34-43a8-9017-d0d44f686c74",
   "metadata": {},
   "outputs": [],
   "source": []
  }
 ],
 "metadata": {
  "kernelspec": {
   "display_name": "Python 3 (ipykernel)",
   "language": "python",
   "name": "python3"
  },
  "language_info": {
   "codemirror_mode": {
    "name": "ipython",
    "version": 3
   },
   "file_extension": ".py",
   "mimetype": "text/x-python",
   "name": "python",
   "nbconvert_exporter": "python",
   "pygments_lexer": "ipython3",
   "version": "3.12.9"
  }
 },
 "nbformat": 4,
 "nbformat_minor": 5
}
